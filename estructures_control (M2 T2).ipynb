{
 "cells": [
  {
   "cell_type": "markdown",
   "id": "52c9535c",
   "metadata": {},
   "source": [
    "## <span style=color:red><b>Bàsics de Python</b></span>\n",
    "\n"
   ]
  },
  {
   "cell_type": "markdown",
   "id": "2fbac6ce",
   "metadata": {},
   "source": [
    "## <span style=color:red><b>Tasca M2 T02</b></span> \n",
    "### <span style=color:red><b>Descripció:</b></span> \n",
    "Exercicis d'estructures de control amb Python.\n",
    "\n",
    "_Enviar l'URL a un repositori anomenat estructures_dades que contingui la solució. S'ha d'entregar cada Exercici en un mateix fitxer i en un repositori._"
   ]
  },
  {
   "cell_type": "markdown",
   "id": "bcf82a6b",
   "metadata": {},
   "source": [
    "- [X] <span style=color:red><b>__Exercici 1:__</b></span> \n",
    "L'exercici consisteix a crear un programa que et classifiqui una variable numèrica en funció de l’escala Suspès/Aprovat/Notable/Excel·lent.\n",
    "\n",
    "Recorda que Suspès < 5, Aprovat > 5 i < 7, Notable > 7 i < 9 i Excel·lent > 9."
   ]
  },
  {
   "cell_type": "code",
   "execution_count": 1,
   "id": "d424a99d",
   "metadata": {},
   "outputs": [],
   "source": [
    "def nota(num):\n",
    "    if num<5:\n",
    "        print('Suspès')\n",
    "    elif num >= 5 and num <8:\n",
    "        print('Aprovat')\n",
    "    elif num ==8:\n",
    "        print('Notable')\n",
    "    elif num>=9 and num<=10:\n",
    "        print('Excel·lent')"
   ]
  },
  {
   "cell_type": "code",
   "execution_count": 4,
   "id": "abb62736",
   "metadata": {},
   "outputs": [
    {
     "name": "stdout",
     "output_type": "stream",
     "text": [
      "Suspès\n",
      "Aprovat\n",
      "Aprovat\n",
      "Notable\n",
      "Excel·lent\n"
     ]
    }
   ],
   "source": [
    "# Para comprobar\n",
    "nota(2)\n",
    "nota(5)\n",
    "nota(6)\n",
    "nota(8)\n",
    "nota(9.5)"
   ]
  },
  {
   "cell_type": "markdown",
   "id": "daf1f09e",
   "metadata": {},
   "source": [
    "- [X] <span style=color:red><b>__Exercici 2:__</b></span>\n",
    "Utilitzant el següent tutorial crea un programa que et pregunti dos números. T’ha de mostrar un missatge dient si el primer és més gran, el segon és més gran o són iguals.\n",
    "   - [__Programiz: Python Input, Output and Import__](https://www.programiz.com/python-programming/input-output-import)"
   ]
  },
  {
   "cell_type": "code",
   "execution_count": 5,
   "id": "d41bf6e8",
   "metadata": {},
   "outputs": [
    {
     "name": "stdout",
     "output_type": "stream",
     "text": [
      "Ingresa dos números separados por un espacio: 4 5\n",
      "El segundo número es más grande que el primero.\n"
     ]
    }
   ],
   "source": [
    "x, y = input(\"Ingresa dos números separados por un espacio: \").split()\n",
    "if y<x:\n",
    "    print('El primer número es más grande que el segundo.')\n",
    "elif x<y:\n",
    "    print('El segundo número es más grande que el primero.')\n",
    "elif x==y:\n",
    "    print('Los dos números son iguales.')"
   ]
  },
  {
   "cell_type": "markdown",
   "id": "ecf67eb6",
   "metadata": {},
   "source": [
    "- [X] <span style=color:red><b>Exercici 3:</b></span>\n",
    "Crea un programa que et pregunti el teu nom, i et demani un número. Si el número és 0, hauria de mostrar un missatge d’error. En cas contrari, hauria de mostrar el nom repetit tants cops com indiqui el número. Per exemple, “Joan Joan Joan”."
   ]
  },
  {
   "cell_type": "code",
   "execution_count": 6,
   "id": "840569c7",
   "metadata": {},
   "outputs": [
    {
     "name": "stdout",
     "output_type": "stream",
     "text": [
      "Introduce tu nombre Berenice\n",
      "Introduce un número 4\n",
      "Berenice Berenice Berenice Berenice \n"
     ]
    }
   ],
   "source": [
    "nom = input('Introduce tu nombre ')\n",
    "num = int(input('Introduce un número '))\n",
    "if num ==0:\n",
    "    print('Error')\n",
    "else :\n",
    "    print((nom+' ')*num)"
   ]
  },
  {
   "cell_type": "markdown",
   "id": "b6c69c2e",
   "metadata": {},
   "source": [
    "- [X] <span style=color:red><b>Exercici 4:</b></span>\n",
    "Crea un programa que donada una llista qualsevol, et digui si és simètrica o no. Si ho és, que et digui quants elements té."
   ]
  },
  {
   "cell_type": "code",
   "execution_count": 7,
   "id": "c58bf119",
   "metadata": {},
   "outputs": [
    {
     "name": "stdout",
     "output_type": "stream",
     "text": [
      "No es simétrica\n",
      "Sí es simétrica\n",
      "No es simétrica\n",
      "Sí es simétrica\n"
     ]
    }
   ],
   "source": [
    "# Función que determina si una lista dada es simétrica o no\n",
    "def listaSimetrica(lista):\n",
    "    if list(reversed(lista))== lista:\n",
    "        print('Sí es simétrica')\n",
    "    else:\n",
    "        print('No es simétrica')\n",
    "        \n",
    "# Función que determina si un string dado es simétrico o no\n",
    "def stringSimetrico(frase):\n",
    "    frase2=frase.replace(\" \",\"\")\n",
    "    frase2=frase2.lower()\n",
    "    if ''.join(reversed(frase2))== frase2:\n",
    "        print('Sí es simétrica')\n",
    "    else:\n",
    "        print('No es simétrica')\n",
    "\n",
    "# Esto es sólo son ejemplos para ver que sí sirven\n",
    "seq_list = [1, 2, 4, 3, 5]\n",
    "seq_list2 = [1,2,3,3,2,1]\n",
    "listaSimetrica(seq_list)\n",
    "listaSimetrica(seq_list2)\n",
    "\n",
    "stringSimetrico('Ésta no lo es')\n",
    "stringSimetrico('Stella won no wallets')"
   ]
  },
  {
   "cell_type": "markdown",
   "id": "3ea73bfc",
   "metadata": {},
   "source": [
    "- [X] <span style=color:red><b>Exercici 5:</b></span>\n",
    "Crea un programa que donada una llista, et digui quants números coincideixen amb la seva posició. Per exemple [3,4,2,0,2,3,6] el 2 i el 6 coincideixen."
   ]
  },
  {
   "cell_type": "code",
   "execution_count": 8,
   "id": "55463578",
   "metadata": {},
   "outputs": [
    {
     "name": "stdout",
     "output_type": "stream",
     "text": [
      "2\n"
     ]
    }
   ],
   "source": [
    "def num_coincidencias(lista):\n",
    "    count=0\n",
    "    i=0\n",
    "    while i<len(lista):\n",
    "        if lista[i]==i:\n",
    "            count+=1\n",
    "            i+=1\n",
    "        else:\n",
    "            i=i+1\n",
    "    return count\n",
    "l=list((3,4,2,0,2,3,6))\n",
    "print(num_coincidencias(l))"
   ]
  },
  {
   "cell_type": "code",
   "execution_count": null,
   "id": "881d2423",
   "metadata": {},
   "outputs": [],
   "source": []
  }
 ],
 "metadata": {
  "kernelspec": {
   "display_name": "Python 3 (ipykernel)",
   "language": "python",
   "name": "python3"
  },
  "language_info": {
   "codemirror_mode": {
    "name": "ipython",
    "version": 3
   },
   "file_extension": ".py",
   "mimetype": "text/x-python",
   "name": "python",
   "nbconvert_exporter": "python",
   "pygments_lexer": "ipython3",
   "version": "3.9.7"
  }
 },
 "nbformat": 4,
 "nbformat_minor": 5
}
