{
 "cells": [
  {
   "cell_type": "markdown",
   "id": "52c9535c",
   "metadata": {},
   "source": [
    "## <span style=color:red><b>Bàsics de Python</b></span>\n",
    "\n"
   ]
  },
  {
   "cell_type": "markdown",
   "id": "5fd66f42",
   "metadata": {},
   "source": [
    "## <span style=color:red><b>Tasca M2 T01</b></span> \n",
    "### <span style=color:red><b>Descripció:</b></span> \n",
    "Exercicis d'estructures de dades amb Python.\n",
    "\n",
    "_Enviar l'URL a un repositori anomenat estructures_dades que contingui la solució. S'ha d'entregar cada Exercici en un mateix fitxer i en un repositori._\n",
    "\n"
   ]
  },
  {
   "cell_type": "markdown",
   "id": "16bae4a0",
   "metadata": {},
   "source": [
    "____"
   ]
  },
  {
   "cell_type": "markdown",
   "id": "de8e5c3b",
   "metadata": {},
   "source": [
    "- [X] <span style=color:red><b>__Exercici 1:__</b></span> \n",
    "Crea una llista que agrupi els mesos de l’any en trimestres (1T: gener, febrer i març; 2T: abril, maig, juny...), és a dir, una llista amb 4 llistes dins.\n",
    "\n"
   ]
  },
  {
   "cell_type": "code",
   "execution_count": 1,
   "id": "86796e43",
   "metadata": {},
   "outputs": [
    {
     "name": "stdout",
     "output_type": "stream",
     "text": [
      "[['January', 'February', 'March'], ['April', 'May', 'June'], ['July', 'August', 'September'], ['October', 'November', 'December']]\n"
     ]
    }
   ],
   "source": [
    "months=[['January', 'February', 'March'],['April', 'May', 'June'],['July', 'August', 'September'],['October', 'November', 'December']]\n",
    "print(months)"
   ]
  },
  {
   "cell_type": "markdown",
   "id": "4411dce2",
   "metadata": {},
   "source": [
    "\n",
    "\n",
    "- [X] <span style=color:red><b>__Exercici 2:__</b></span>\n",
    "Crea un codi que et permeti accedir a:\n",
    "- El segon mes del primer trimestre.\n",
    "- Els mesos del primer trimestre.\n",
    "- Setembre i octubre.\n",
    "\n"
   ]
  },
  {
   "cell_type": "code",
   "execution_count": 2,
   "id": "47b75090",
   "metadata": {},
   "outputs": [
    {
     "name": "stdout",
     "output_type": "stream",
     "text": [
      "The second month of the first quarter:  February\n",
      "Months of the first quarter:\n",
      "-  January\n",
      "-  February\n",
      "-  March\n",
      "September, October\n"
     ]
    }
   ],
   "source": [
    "months=[['January', 'February', 'March'],['April', 'May', 'June'],['July', 'August', 'September'],['October', 'November', 'December']]\n",
    "t1=months[0]\n",
    "print('The second month of the first quarter: ', t1[1])\n",
    "print('Months of the first quarter:')\n",
    "for month in t1:\n",
    "    print('- ',month)\n",
    "print((months[2])[2] +\", \"+ (months[3])[0])"
   ]
  },
  {
   "cell_type": "markdown",
   "id": "5c4860ec",
   "metadata": {},
   "source": [
    "\n",
    "\n",
    "- [X] <span style=color:red><b>Exercici 3:</b></span>\n",
    "Crea una llista amb nombres desordenats i respon a les següents preguntes:\n",
    "- Quants números hi ha?\n",
    "- Quantes vegades apareix el número 3.\n",
    "- Quantes vegades apareixen els nombres 3 i 4?\n",
    "- Quin és el número més gran?\n",
    "- Quins són els 3 números més petits?\n",
    "- Quin és el rang d’aquesta llista?\n"
   ]
  },
  {
   "cell_type": "code",
   "execution_count": 3,
   "id": "e372af99",
   "metadata": {},
   "outputs": [
    {
     "name": "stdout",
     "output_type": "stream",
     "text": [
      "There are  10  numbers in the list.\n",
      "Number 3 appears  0  times on the list.\n",
      "Number 3 appears  0  times on the list, and the number 4 appears  2  times on the list.\n",
      "The largest number in the list is 2304.\n",
      "The largest number in the list is  2304\n",
      "The three smallest numbers in the list are:  0 ,  4 , and  12.\n",
      "The rank of the list is  2304\n"
     ]
    }
   ],
   "source": [
    "numbers=[123, 4, 984, 12, 0, 25, 2304, 1977, 58, 4]\n",
    "\n",
    "print('There are ', len(numbers), ' numbers in the list.')\n",
    "def times_number_list(lista, number):\n",
    "    count = 0\n",
    "    for num in lista:\n",
    "        if num== number:\n",
    "            count= count +1\n",
    "    return count\n",
    "print('Number 3 appears ', times_number_list(numbers, 3), ' times on the list.')\n",
    "print('Number 3 appears ', times_number_list(numbers, 3), ' times on the list, and the number 4 appears ',times_number_list(numbers, 4), ' times on the list.')\n",
    "\n",
    "def larggest_num_list(list):\n",
    "    big=list[0]\n",
    "    for num in list:\n",
    "        if num >= big:\n",
    "            big = num\n",
    "    return big\n",
    "\n",
    "print('The largest number in the list is '+ str(larggest_num_list(numbers))+'.')\n",
    "# Opción 2 usando los métodos de Python:\n",
    "print('The largest number in the list is ',max(numbers))\n",
    "\n",
    "\n",
    "def removing_all(lista, element):\n",
    "    listt=lista.copy()\n",
    "    for x in listt:\n",
    "        if x== element:\n",
    "            listt.remove(x)\n",
    "    return listt\n",
    "            \n",
    "min1=min(numbers)\n",
    "numbers2=removing_all(numbers, min1)\n",
    "min2=min(numbers2)\n",
    "numbers3=removing_all(numbers2, min2)\n",
    "min3=min(numbers3)\n",
    "\n",
    "print('The three smallest numbers in the list are: ', min1,', ',min2,', and ',str(min3)+'.')\n",
    "\n",
    "print('The rank of the list is ', max(numbers)-min(numbers))\n",
    "\n"
   ]
  },
  {
   "cell_type": "markdown",
   "id": "0515378f",
   "metadata": {},
   "source": [
    "\n",
    "\n",
    "- [X] <span style=color:red><b>Exercici 4:</b></span>\n",
    "Crea un diccionari de la següent forma i respon a les preguntes:\n",
    "\n",
    "$$ compra = { \"Pomes\" : {\"Qty\": 5, \"€\": 0.42}, \"Peres\" : {\"Qty\": 3, \"€\": 0.66} }$$\n",
    "\n",
    "- Afegeix alguna fruita més\n",
    "- Quant han costat les peres en total?\n",
    "- Quantes fruites hem comprat en total?\n",
    "- Quina és la fruita més cara?"
   ]
  },
  {
   "cell_type": "code",
   "execution_count": 4,
   "id": "fe8d1355",
   "metadata": {},
   "outputs": [
    {
     "name": "stdout",
     "output_type": "stream",
     "text": [
      "El costo total de las peras ha sido  1.98\n",
      "Se han comprado un total de  10  frutas.\n",
      "La fruta más cara ha sido:  Peres\n"
     ]
    }
   ],
   "source": [
    "compra={\"Pomes\" : {\"Qty\": 5, \"€\": 0.42}, \"Peres\" : {\"Qty\": 3, \"€\": 0.66}}\n",
    "compra[\"Manzanas\"] = {\"Qty\": 2, \"€\": 0.53}\n",
    "def costo_fruta(fruta):\n",
    "    costo=((compra.get(fruta)).get(\"Qty\"))*((compra.get(fruta)).get(\"€\"))\n",
    "    return costo\n",
    "def cantidad_fruta(lista):\n",
    "    cantidad = 0\n",
    "    for fruit in compra:\n",
    "        cantidad = cantidad + ((lista.get(fruit)).get(\"Qty\"))\n",
    "    return cantidad\n",
    "\n",
    "cara=0\n",
    "for fruit in compra:\n",
    "    if (compra.get(fruit)).get(\"€\") >= cara:\n",
    "            cara = (compra.get(fruit)).get(\"€\")\n",
    "            fruta=fruit\n",
    "    \n",
    "print('El costo total de las peras ha sido ',costo_fruta(\"Peres\"))\n",
    "print('Se han comprado un total de ', cantidad_fruta(compra), ' frutas.')\n",
    "print('La fruta más cara ha sido: ', fruta)"
   ]
  },
  {
   "cell_type": "code",
   "execution_count": null,
   "id": "c0281d92",
   "metadata": {},
   "outputs": [],
   "source": []
  }
 ],
 "metadata": {
  "kernelspec": {
   "display_name": "Python 3 (ipykernel)",
   "language": "python",
   "name": "python3"
  },
  "language_info": {
   "codemirror_mode": {
    "name": "ipython",
    "version": 3
   },
   "file_extension": ".py",
   "mimetype": "text/x-python",
   "name": "python",
   "nbconvert_exporter": "python",
   "pygments_lexer": "ipython3",
   "version": "3.9.7"
  }
 },
 "nbformat": 4,
 "nbformat_minor": 5
}
